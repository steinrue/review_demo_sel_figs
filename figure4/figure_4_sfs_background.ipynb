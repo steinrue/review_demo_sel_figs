{
 "cells": [
  {
   "cell_type": "code",
   "execution_count": 1,
   "metadata": {},
   "outputs": [],
   "source": [
    "import numpy\n",
    "import pathlib2\n",
    "import slim_scripts\n",
    "import subprocess\n",
    "import matplotlib.pyplot as plt\n",
    "import seaborn\n",
    "import pandas\n",
    "import tqdm\n",
    "\n",
    "metaRNG = numpy.random.default_rng (4714)"
   ]
  },
  {
   "cell_type": "code",
   "execution_count": 2,
   "metadata": {},
   "outputs": [],
   "source": [
    "# this is the binary file called to run the slim script\n",
    "SLIM_BINARY = 'slim'\n",
    "\n",
    "# and this can reuse simulated stuff\n",
    "REUSE_SIMULATION_IF_EXISTS = True"
   ]
  },
  {
   "cell_type": "code",
   "execution_count": 3,
   "metadata": {},
   "outputs": [],
   "source": [
    "# some functions to compute statistics\n",
    "def getSFS (geno):\n",
    "    (S, n) = geno.shape\n",
    "    # number of derived alleles at each site\n",
    "    numDerivedAlleles = numpy.sum (geno, axis=1)\n",
    "    # get a histogram and set range and bins such that it is compatible with integers for allele counts\n",
    "    (histY, histX) = numpy.histogram (numDerivedAlleles, range=(-0.5, n + 0.5), bins=(n+1))\n",
    "    # no non-segregating sites\n",
    "    assert (histY[0] == 0)\n",
    "    return histY\n",
    "\n",
    "\n",
    "def getWattersonTheta (S, n, sequenceLength):\n",
    "    harm = numpy.sum (1/numpy.arange(1,n))\n",
    "    return (S / harm) / sequenceLength\n",
    "\n",
    "\n",
    "def getPi (geno, sequenceLength):\n",
    "    (S, n) = geno.shape\n",
    "    sfs = getSFS (geno)\n",
    "    assert (len(sfs) == n+1)\n",
    "    # iterate through seg-sites entries in SFS\n",
    "    diffs = 0\n",
    "    for i in numpy.arange(1,n):\n",
    "        # each derived allele at count i produces i * (n-i) pairwise differences\n",
    "        diffs += sfs[i] * i * (n-i)\n",
    "    return (diffs / (n*(n-1)*0.5)) / sequenceLength\n",
    "\n",
    "def getSfsErrors (reducedSFS):\n",
    "    numSegSites = numpy.sum (reducedSFS)\n",
    "    normSFS = reducedSFS / numpy.sum(reducedSFS)\n",
    "    # these are the means of the frequency estimators using indicators\n",
    "    means = normSFS\n",
    "    # get the variances\n",
    "    meanXSquared = means\n",
    "    variances = meanXSquared - means*means\n",
    "    sds = numpy.sqrt (variances)/ numpy.sqrt(numSegSites)\n",
    "    # scale it back up to counts\n",
    "    return numSegSites * sds\n",
    "    "
   ]
  },
  {
   "cell_type": "code",
   "execution_count": 4,
   "metadata": {},
   "outputs": [],
   "source": [
    "# popgen parameters\n",
    "mutRate = 1.25 * 1e-8\n",
    "recoRate = 1.25 * 1e-8\n",
    "sequenceLength = int(5e6)\n",
    "sampleSize = 100\n",
    "\n",
    "# slim param\n",
    "scalingFactor = 5"
   ]
  },
  {
   "cell_type": "code",
   "execution_count": 5,
   "metadata": {},
   "outputs": [],
   "source": [
    "# scenarios\n",
    "theScenarios = {}\n",
    "\n",
    "# constant 5000\n",
    "numReplicates = 20\n",
    "constantDiploidNe = 5000\n",
    "scripts = []\n",
    "for r in numpy.arange(numReplicates):\n",
    "    thisSkript = slim_scripts.singlePopulationBGPiecewise (metaRNG.integers (9999999999), scalingFactor, mutRate, recoRate, sequenceLength, [constantDiploidNe], [], sampleSize)\n",
    "    scripts.append (thisSkript)\n",
    "# add them all into the list\n",
    "theScenarios[f'constant_{constantDiploidNe}'] = scripts\n",
    "\n",
    "# constant 2500\n",
    "numReplicates = 20\n",
    "constantDiploidNe = 3750\n",
    "scripts = []\n",
    "for r in numpy.arange(numReplicates):\n",
    "    thisSkript = slim_scripts.singlePopulationBGPiecewise (metaRNG.integers (9999999999), scalingFactor, mutRate, recoRate, sequenceLength, [constantDiploidNe], [], sampleSize)\n",
    "    scripts.append (thisSkript)\n",
    "# add them all into the list\n",
    "theScenarios[f'constant_{constantDiploidNe}'] = scripts\n",
    "\n",
    "# recent growth\n",
    "numReplicates = 20\n",
    "diploidNes = numpy.array([2500, 3500, 7500, 15000]) * 1.45\n",
    "changeTimes = numpy.array([120, 80, 40]) * 1.5\n",
    "scripts = []\n",
    "for r in numpy.arange(numReplicates):\n",
    "    thisSkript = constantSkript = slim_scripts.singlePopulationBGPiecewise (metaRNG.integers (9999999999), scalingFactor, mutRate, recoRate, sequenceLength,\n",
    "                                                                                 diploidNes, changeTimes, sampleSize)\n",
    "    scripts.append (thisSkript)\n",
    "# add them all into the list\n",
    "theScenarios[f'growth_{int(diploidNes[-1])}'] = scripts\n",
    "\n",
    "# background selection\n",
    "numReplicates = 20\n",
    "constantDiploidNe = 5000\n",
    "delMutRate = mutRate * 0.2\n",
    "delMutSelCoeff = \"0.001\"\n",
    "# delMutRate = mutRate\n",
    "# delMutSelCoeff = \"0\"\n",
    "scripts = []\n",
    "for r in numpy.arange(numReplicates):\n",
    "    thisSkript = constantSkript = slim_scripts.singlePopulationBGPiecewise (metaRNG.integers (9999999999), scalingFactor, mutRate, recoRate, sequenceLength,\n",
    "                                                                                 [constantDiploidNe], [], sampleSize, delMutRate=delMutRate, delMutSelCoeff=-float(delMutSelCoeff))\n",
    "    scripts.append (thisSkript)\n",
    "# add them all into the list\n",
    "theScenarios[f'background_{constantDiploidNe}_m{delMutSelCoeff}'] = scripts\n"
   ]
  },
  {
   "cell_type": "code",
   "execution_count": 6,
   "metadata": {},
   "outputs": [
    {
     "name": "stdout",
     "output_type": "stream",
     "text": [
      "===== constant_5000\n"
     ]
    },
    {
     "name": "stderr",
     "output_type": "stream",
     "text": [
      "20it [00:00, 3806.60it/s]\n"
     ]
    },
    {
     "name": "stdout",
     "output_type": "stream",
     "text": [
      "===== constant_3750\n"
     ]
    },
    {
     "name": "stderr",
     "output_type": "stream",
     "text": [
      "20it [00:00, 1555.23it/s]\n"
     ]
    },
    {
     "name": "stdout",
     "output_type": "stream",
     "text": [
      "===== growth_21750\n"
     ]
    },
    {
     "name": "stderr",
     "output_type": "stream",
     "text": [
      "20it [00:00, 3999.91it/s]\n"
     ]
    },
    {
     "name": "stdout",
     "output_type": "stream",
     "text": [
      "===== background_5000_m0.001\n"
     ]
    },
    {
     "name": "stderr",
     "output_type": "stream",
     "text": [
      "20it [00:00, 3116.24it/s]\n"
     ]
    }
   ],
   "source": [
    "# run all the scripts\n",
    "outputFiles = {}\n",
    "for (thisScenario, thisSlimScripts) in theScenarios.items():\n",
    "    print (f\"===== {thisScenario}\")\n",
    "    outputFiles[thisScenario] = []\n",
    "\n",
    "    # go through replicates in this scenario\n",
    "    for (rIdx, thisReplicateScript) in tqdm.tqdm(enumerate(thisSlimScripts)):\n",
    "\n",
    "        # make a subdirectory, name is the scenario name\n",
    "        subDir = pathlib2.Path (thisScenario)\n",
    "        # subDir.mkdir (parents=False, exist_ok=False)\n",
    "        subDir.mkdir (parents=False, exist_ok=True)\n",
    "\n",
    "        # get the paths for script and output file\n",
    "        # basename is this scenario\n",
    "        slimScriptPath = pathlib2.Path (subDir, thisScenario + f\"_{rIdx}.slim\")\n",
    "        slimOutputPath = pathlib2.Path (subDir, thisScenario + f\"_{rIdx}.out\")\n",
    "        outputFiles[thisScenario].append(slimOutputPath)\n",
    "\n",
    "        # only re-simulate if needed\n",
    "        if (REUSE_SIMULATION_IF_EXISTS and slimOutputPath.exists()):\n",
    "            # print (f\"+++ {rIdx}: Ouput exits, reuse.\")\n",
    "            continue\n",
    "        else:\n",
    "            # print (f\"+++ {rIdx}: Simulate new output.\")\n",
    "\n",
    "            # write the script\n",
    "            ofs = open (slimScriptPath, 'w')\n",
    "            ofs.write (thisReplicateScript)\n",
    "            ofs.close()\n",
    "\n",
    "            # run the script\n",
    "            slimCmd = f\"{SLIM_BINARY} {str(slimScriptPath)} >{str(slimOutputPath)}\"\n",
    "            result = subprocess.run (slimCmd, shell=True, capture_output=True, text=True)\n",
    "            # print (result.stderr)\n",
    "            assert (result.returncode == 0)\n"
   ]
  },
  {
   "cell_type": "code",
   "execution_count": 7,
   "metadata": {},
   "outputs": [],
   "source": [
    "# assert (False)"
   ]
  },
  {
   "cell_type": "code",
   "execution_count": 8,
   "metadata": {},
   "outputs": [],
   "source": [
    "# load the genotype from the files\n",
    "genotypes = {}\n",
    "for (thisScenario, theseFiles) in outputFiles.items():\n",
    "    genotypes[thisScenario] = []\n",
    "    for thisFile in theseFiles:\n",
    "\n",
    "        # read the output from the slim simulation\n",
    "        ifs = open (thisFile)\n",
    "        slimLines = ifs.readlines()\n",
    "        ifs.close()\n",
    "\n",
    "        # get the genotypes\n",
    "        (geno, positions) = slim_scripts.getGenoFromSlimOutput (slimLines, sequenceLength, sampleSize)\n",
    "\n",
    "        # and store it\n",
    "        genotypes[thisScenario].append ((geno, positions))\n"
   ]
  },
  {
   "cell_type": "code",
   "execution_count": 9,
   "metadata": {},
   "outputs": [
    {
     "name": "stdout",
     "output_type": "stream",
     "text": [
      "===== constant_5000\n",
      "Watterson: 0.000248\n",
      "pi: 0.000246\n",
      "===== constant_3750\n",
      "Watterson: 0.000187\n",
      "pi: 0.000185\n",
      "===== growth_21750\n",
      "Watterson: 0.000212\n",
      "pi: 0.000183\n",
      "===== background_5000_m0.001\n",
      "Watterson: 0.000208\n",
      "pi: 0.000186\n"
     ]
    }
   ],
   "source": [
    "# compute diversity statistics\n",
    "allThetas = {}\n",
    "allPis = {}\n",
    "for (thisScenario, theseGenos) in genotypes.items():\n",
    "    print (f\"===== {thisScenario}\")\n",
    "\n",
    "    # cumulatively\n",
    "    allS = 0\n",
    "    pis = []\n",
    "    for (rIdx, v) in enumerate(theseGenos):\n",
    "        (rGeno, rPositions) = v\n",
    "        thisS = rGeno.shape[0]\n",
    "        reducedGeno = rGeno[numpy.sum(rGeno,axis=1)<rGeno.shape[1],:]\n",
    "        n = reducedGeno.shape[1]\n",
    "        allS += thisS\n",
    "        thisPi = getPi (rGeno, sequenceLength)\n",
    "        pis.append (thisPi)\n",
    "\n",
    "    allThetas[thisScenario] = getWattersonTheta (allS, n, sequenceLength*len(theseGenos))\n",
    "    print (f\"Watterson: {allThetas[thisScenario]:.6f}\")\n",
    "    allPis[thisScenario] = numpy.mean(pis)\n",
    "    print (f\"pi: {allPis[thisScenario]:.6f}\")\n"
   ]
  },
  {
   "cell_type": "code",
   "execution_count": 10,
   "metadata": {},
   "outputs": [
    {
     "data": {
      "text/plain": [
       "<matplotlib.legend.Legend at 0x168420850>"
      ]
     },
     "execution_count": 10,
     "metadata": {},
     "output_type": "execute_result"
    },
    {
     "data": {
      "image/png": "[encoded data removed]",
      "text/plain": [
       "<Figure size 640x480 with 1 Axes>"
      ]
     },
     "metadata": {},
     "output_type": "display_data"
    }
   ],
   "source": [
    "# plot some SFSs\n",
    "theLegend = []\n",
    "for (thisScenario, theseGenos) in genotypes.items():\n",
    "    thisSFS = None\n",
    "    for (rIdx, v) in enumerate(theseGenos):\n",
    "        (thisGeno, thisPositions) = v\n",
    "\n",
    "        # get SFS from genotype matrix\n",
    "        reducedGeno = thisGeno[:,:20]\n",
    "        # reducedGeno = thisGeno\n",
    "        reducedGeno = reducedGeno[numpy.sum(reducedGeno,axis=1)>0,:]\n",
    "        if (thisSFS is None):\n",
    "            thisSFS = getSFS (reducedGeno)\n",
    "        else:\n",
    "            thisSFS += getSFS (reducedGeno)\n",
    "\n",
    "    n = len(thisSFS)-1\n",
    "    xs = numpy.arange(1, n)\n",
    "    ys = thisSFS[1:-1]\n",
    "    # plt.bar (xs, ys)\n",
    "    plt.plot (xs, ys, '.')\n",
    "    plt.yscale ('log')\n",
    "    plt.xscale ('log')\n",
    "\n",
    "    theLegend.append (thisScenario)\n",
    "\n",
    "plt.legend (theLegend)"
   ]
  },
  {
   "cell_type": "code",
   "execution_count": 11,
   "metadata": {},
   "outputs": [
    {
     "data": {
      "image/png": "[encoded data removed]",
      "text/plain": [
       "<Figure size 600x400 with 1 Axes>"
      ]
     },
     "metadata": {},
     "output_type": "display_data"
    }
   ],
   "source": [
    "# try some seaborn shenanigans\n",
    "plt.figure (figsize=(6,4))\n",
    "legendText = {\n",
    "    'constant_5000' : r'Neutral, $N_e$ = 5000 ($\\hat{\\pi}$ = ' + f\"{allPis['constant_5000']:.6f}\" + ')',\n",
    "    'constant_3750' : r'Neutral, $N_e$ = 3750 ($\\hat{\\pi}$ = ' + f\"{allPis['constant_3750']:.6f}\" + ')',\n",
    "    f'growth_{int(diploidNes[-1])}' : r'Neutral, Recent Growth ($\\hat{\\pi}$ = ' + f\"{allPis[f'growth_{int(diploidNes[-1])}']:.6f}\" + ')',\n",
    "    'background_5000_m0.001' : r'BGS, $N_e$ = 5000 ($\\hat{\\pi}$ = ' + f\"{allPis['background_5000_m0.001']:.6f}\" + ')',\n",
    "}\n",
    "# first make up a dataframe\n",
    "frameSamplesSizes = []\n",
    "frameCounts = []\n",
    "frameLabels = []\n",
    "# frameError = []\n",
    "for (thisScenario, thisLegend) in legendText.items():\n",
    "    theseGenos = genotypes[thisScenario]\n",
    "    thisSFS = None\n",
    "    for (rIdx, v) in enumerate(theseGenos):\n",
    "        (thisGeno, thisPositions) = v\n",
    "\n",
    "        # get SFS from genotype matrix\n",
    "        reducedGeno = thisGeno[:,:20]\n",
    "        # reducedGeno = thisGeno\n",
    "        reducedGeno = reducedGeno[numpy.sum(reducedGeno,axis=1)>0,:]\n",
    "        # reducedGeno = reducedGeno[::5,:]\n",
    "        if (thisSFS is None):\n",
    "            thisSFS = getSFS (reducedGeno)\n",
    "        else:\n",
    "            thisSFS += getSFS (reducedGeno)\n",
    "\n",
    "    n = len(thisSFS)-1\n",
    "        \n",
    "    frameSamplesSizes.extend (numpy.arange(1,n))\n",
    "    frameCounts.extend (thisSFS[1:-1]/numpy.sum(thisSFS[1:-1]))\n",
    "    frameLabels.extend (numpy.repeat (thisLegend, n-1))\n",
    "    # frameError.extend (1.96 * getSfsErrors(thisSFS[1:-1]))\n",
    "\n",
    "assert (len(frameSamplesSizes) == len(frameCounts))\n",
    "assert (len(frameSamplesSizes) == len(frameLabels))\n",
    "\n",
    "# put it into a frame\n",
    "sfsFrame = pandas.DataFrame ({\n",
    "    \"Number of derived alleles\" : frameSamplesSizes,\n",
    "    \"Relative abundance\" : frameCounts,\n",
    "    \"Scenario\" : frameLabels,\n",
    "})\n",
    "\n",
    "seaAx = seaborn.barplot (sfsFrame, x=\"Number of derived alleles\", y=\"Relative abundance\", hue=\"Scenario\")\n",
    "seaAx.set_title ('Site-Frequency-Spectrum')\n",
    "\n",
    "# # some error bars\n",
    "# x_coords = [p.get_x() + 0.5 * p.get_width() for p in seaAx.patches]\n",
    "# y_coords = [p.get_height() for p in seaAx.patches]\n",
    "# seaAx.errorbar (x=x_coords[:-3], y=y_coords[:-3], yerr=frameError, fmt=\"none\", c=\"k\")\n",
    "\n",
    "# seaAx.set_yscale ('log')\n",
    "# seaAx.set_ylim (300,20000)\n",
    "# seaAx.set_ylim (0,13200)\n",
    "\n",
    "plt.savefig ('figure_4_sfs_background.pdf')"
   ]
  },
  {
   "cell_type": "code",
   "execution_count": null,
   "metadata": {},
   "outputs": [],
   "source": []
  }
 ],
 "metadata": {
  "kernelspec": {
   "display_name": "Python 3 (ipykernel)",
   "language": "python",
   "name": "python3"
  },
  "language_info": {
   "codemirror_mode": {
    "name": "ipython",
    "version": 3
   },
   "file_extension": ".py",
   "mimetype": "text/x-python",
   "name": "python",
   "nbconvert_exporter": "python",
   "pygments_lexer": "ipython3",
   "version": "3.9.18"
  }
 },
 "nbformat": 4,
 "nbformat_minor": 4
}
