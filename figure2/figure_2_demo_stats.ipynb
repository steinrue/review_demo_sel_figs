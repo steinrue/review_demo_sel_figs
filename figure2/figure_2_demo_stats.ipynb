{
 "cells": [
  {
   "cell_type": "code",
   "execution_count": 1,
   "metadata": {},
   "outputs": [],
   "source": [
    "import numpy\n",
    "import matplotlib.pyplot as plt\n",
    "import matplotlib.gridspec as gspec\n",
    "import msprime\n",
    "import pickle\n",
    "import tqdm\n",
    "import pathlib2\n",
    "import bz2\n",
    "\n",
    "metaRNG = numpy.random.default_rng (4711)"
   ]
  },
  {
   "cell_type": "code",
   "execution_count": 2,
   "metadata": {},
   "outputs": [],
   "source": [
    "# load simulations from pickled files, if they are available\n",
    "LOAD_FROM_PICKLE = True"
   ]
  },
  {
   "attachments": {},
   "cell_type": "markdown",
   "metadata": {},
   "source": [
    "#### functions to proces simulated data and compute statistics"
   ]
  },
  {
   "cell_type": "code",
   "execution_count": 3,
   "metadata": {},
   "outputs": [],
   "source": [
    "# convert to genotype matrix\n",
    "def mtsToGeno (mts):\n",
    "\n",
    "    # empty containers\n",
    "    genoMatrix = -1 * numpy.ones ((mts.num_sites, mts.num_samples), dtype=int)\n",
    "    positions = -1 * numpy.ones (mts.num_sites, dtype=int)\n",
    "    numAlleles = -1 * numpy.ones (mts.num_sites, dtype=int)\n",
    "\n",
    "    # iterate through variants\n",
    "    currIdx = 0\n",
    "    for var in mts.variants():\n",
    "\n",
    "        # save all stuff\n",
    "        positions[currIdx] = var.position\n",
    "        numAlleles[currIdx] = len(var.alleles)\n",
    "        genoMatrix[currIdx,:] = var.genotypes\n",
    "\n",
    "        # increase index\n",
    "        currIdx += 1\n",
    "\n",
    "    # some checks\n",
    "    assert (genoMatrix.min() >= 0)\n",
    "    assert (positions.min() >= 0)\n",
    "    # no duplicate positions\n",
    "    assert (numpy.all (numpy.diff (positions) > 0))\n",
    "    assert (numAlleles.min() >= 0)\n",
    "\n",
    "    return (positions, numAlleles, genoMatrix)"
   ]
  },
  {
   "cell_type": "code",
   "execution_count": 4,
   "metadata": {},
   "outputs": [],
   "source": [
    "def removeNonBiallelic (positions, numAlleles, genoMatrix):\n",
    "    # get rid of all sites that are not biallelic\n",
    "    biallelicMask = (numAlleles == 2)\n",
    "    positions = positions[biallelicMask]\n",
    "    numAlleles = numAlleles[biallelicMask]\n",
    "    genoMatrix = genoMatrix[biallelicMask,:]\n",
    "    assert (numpy.all (numAlleles == 2))\n",
    "    assert (numpy.all (numpy.isin (genoMatrix.flatten(), [0,1])))\n",
    "\n",
    "    return (positions, numAlleles, genoMatrix)"
   ]
  },
  {
   "cell_type": "code",
   "execution_count": 5,
   "metadata": {},
   "outputs": [],
   "source": [
    "def removeNonSegregating (positions, numAlleles, genoMatrix):\n",
    "    # get rid of non-segregating, cause they mess up LD\n",
    "    numDer = numpy.sum (genoMatrix, axis=1)\n",
    "    segregatingMask = (0 < numDer) & (numDer < genoMatrix.shape[1])\n",
    "    positions = positions[segregatingMask]\n",
    "    numAlleles = numAlleles[segregatingMask]\n",
    "    genoMatrix = genoMatrix[segregatingMask,:]\n",
    "    assert (numpy.all (numpy.sum (genoMatrix, axis=1) > 0))\n",
    "    assert (numpy.all (numpy.sum (genoMatrix, axis=1) < genoMatrix.shape[1]))\n",
    "\n",
    "    return (positions, numAlleles, genoMatrix)"
   ]
  },
  {
   "cell_type": "code",
   "execution_count": 6,
   "metadata": {},
   "outputs": [],
   "source": [
    "def getFreqs (focalGeno, windowGeno):\n",
    "\n",
    "    # get hap freq\n",
    "    hapCount = windowGeno * focalGeno\n",
    "    hapFreq = numpy.sum(hapCount, axis =1) / hapCount.shape[1]\n",
    "\n",
    "    # get marginal freqs\n",
    "    windowFreq = numpy.sum(windowGeno, axis =1) / windowGeno.shape[1]\n",
    "    assert (numpy.all (0 < windowFreq))\n",
    "    assert (numpy.all (windowFreq < 1))\n",
    "    assert (len(focalGeno.shape) == 1)\n",
    "    focalFreq = numpy.sum (focalGeno) / focalGeno.shape[0]\n",
    "    assert ((0 < focalFreq) & (focalFreq < 1))\n",
    "\n",
    "    return (hapFreq, focalFreq, windowFreq)"
   ]
  },
  {
   "cell_type": "code",
   "execution_count": 7,
   "metadata": {},
   "outputs": [],
   "source": [
    "# assumes that 0 is ancestral and 1 is derived\n",
    "def computeLD (focalGeno, windowGeno):\n",
    "\n",
    "    # get freqs\n",
    "    (hapFreq, focalFreq, windowFreq) = getFreqs (focalGeno, windowGeno)\n",
    "\n",
    "    # compute LD values\n",
    "    D = hapFreq - windowFreq * focalFreq\n",
    "    rSquared = D*D / (windowFreq*(1-windowFreq)*focalFreq*(1-focalFreq))\n",
    "\n",
    "    return rSquared"
   ]
  },
  {
   "cell_type": "code",
   "execution_count": 8,
   "metadata": {},
   "outputs": [],
   "source": [
    "# assumes that 0 is ancestral and 1 is derived\n",
    "def computeCrossLD (focalGenoOne, windowGenoOne, focalGenoTwo, windowGenoTwo):\n",
    "\n",
    "    # get freqs\n",
    "    (hapFreqOne, focalFreqOne, windowFreqOne) = getFreqs (focalGenoOne, windowGenoOne)\n",
    "    (hapFreqTwo, focalFreqTwo, windowFreqTwo) = getFreqs (focalGenoTwo, windowGenoTwo)\n",
    "\n",
    "    # compute LD values\n",
    "    dOne = hapFreqOne - windowFreqOne * focalFreqOne\n",
    "    dTwo = hapFreqTwo - windowFreqTwo * focalFreqTwo\n",
    "\n",
    "    # diversity\n",
    "    piOne = windowFreqOne*(1-windowFreqOne)*focalFreqOne*(1-focalFreqOne)\n",
    "    piTwo = windowFreqTwo*(1-windowFreqTwo)*focalFreqTwo*(1-focalFreqTwo)\n",
    "\n",
    "    # finally the cross LD\n",
    "    rSquared = dOne*dTwo / (numpy.sqrt(piOne) * numpy.sqrt(piTwo))\n",
    "\n",
    "    return rSquared"
   ]
  },
  {
   "attachments": {},
   "cell_type": "markdown",
   "metadata": {},
   "source": [
    "### single panmictic population"
   ]
  },
  {
   "cell_type": "code",
   "execution_count": 9,
   "metadata": {},
   "outputs": [],
   "source": [
    "# popgen parameters\n",
    "panRecoRate = 1.25e-8\n",
    "panMutRate = 1.25e-8\n",
    "panSequenceLength = 100e6\n",
    "panDiploidSampleSize = 100\n",
    "\n",
    "panmicticScenarios = {\n",
    "    'Constant': ([], [1e4]),\n",
    "    'Bottleneck': ([1.5e4, 2.5e4], [1e4, 2.5e3, 1e4])\n",
    "}\n",
    "\n",
    "panmicticDemographies = {}\n",
    "for (k, v) in panmicticScenarios.items():\n",
    "    # unpack v\n",
    "    (thisTimes, thisSizes) = v\n",
    "    assert (len(thisTimes)+1 == len(thisSizes))\n",
    "\n",
    "    thisDemo = msprime.Demography()\n",
    "    # every population has a size\n",
    "    thisDemo.add_population (initial_size=thisSizes[0])\n",
    "\n",
    "    # and add some changes if there are any\n",
    "    for sIdx in numpy.arange(len(thisTimes)):\n",
    "        thisDemo.add_population_parameters_change (time=thisTimes[sIdx], initial_size=thisSizes[sIdx+1], population=0)\n",
    "\n",
    "    # and store the demo\n",
    "    panmicticDemographies[k] = thisDemo"
   ]
  },
  {
   "cell_type": "code",
   "execution_count": 10,
   "metadata": {},
   "outputs": [
    {
     "name": "stdout",
     "output_type": "stream",
     "text": [
      "File popsize_mts.pickle.bz2 exists, load data.\n",
      "CPU times: user 3.95 s, sys: 207 ms, total: 4.16 s\n",
      "Wall time: 4.3 s\n"
     ]
    }
   ],
   "source": [
    "%%time\n",
    "\n",
    "popSizeMtsPickleFile = 'popsize_mts.pickle.bz2'\n",
    "\n",
    "if (pathlib2.Path(popSizeMtsPickleFile).is_file() and LOAD_FROM_PICKLE):\n",
    "    print (f\"File {popSizeMtsPickleFile} exists, load data.\")\n",
    "    # load pickle\n",
    "    treeSequencesPanmictic = pickle.load (bz2.open (popSizeMtsPickleFile, 'rb'))\n",
    "else:\n",
    "    print (f\"File {popSizeMtsPickleFile} does not exist or shouldn't be loaded, generate data.\")\n",
    "    treeSequencesPanmictic = {}\n",
    "\n",
    "    for (demoLabel, thisDemo) in panmicticDemographies.items():\n",
    "\n",
    "        # first the tree sequence\n",
    "        ts = msprime.sim_ancestry (samples=panDiploidSampleSize, recombination_rate=panRecoRate, sequence_length=panSequenceLength,\n",
    "                                    demography=thisDemo, random_seed=metaRNG.integers (99999999))\n",
    "\n",
    "        # then mutations on the trees\n",
    "        mts = msprime.sim_mutations (ts, rate=panMutRate, random_seed=metaRNG.integers (99999999))\n",
    "\n",
    "        # store it\n",
    "        treeSequencesPanmictic[demoLabel] = mts\n",
    "\n",
    "    # and pickle it\n",
    "    pickle.dump (treeSequencesPanmictic, bz2.open (popSizeMtsPickleFile, 'wb'))"
   ]
  },
  {
   "cell_type": "code",
   "execution_count": 11,
   "metadata": {},
   "outputs": [],
   "source": [
    "# # set up LD hist\n",
    "# minDist = 0.1\n",
    "# maxDist = 1e5\n",
    "# distBins = 20\n",
    "# bounds = numpy.linspace (minDist, maxDist, distBins)\n",
    "# lowerB = bounds[:-1]\n",
    "# upperB = bounds[1:]"
   ]
  },
  {
   "cell_type": "code",
   "execution_count": 12,
   "metadata": {},
   "outputs": [],
   "source": [
    "# # go through all and compute LD\n",
    "\n",
    "# popSizeLdPickleFile = 'popsize_ld.pickle.bz2'\n",
    "\n",
    "# if (pathlib2.Path(popSizeLdPickleFile).is_file() and LOAD_FROM_PICKLE):\n",
    "#     print (f\"File {popSizeLdPickleFile} exists, load data.\")\n",
    "#     # load pickle\n",
    "#     ldHistsPanmictic = pickle.load (bz2.open (popSizeLdPickleFile, 'rb'))\n",
    "# else:\n",
    "#     print (f\"File {popSizeLdPickleFile} does not exist or shouldn't be loaded, generate data.\")\n",
    "#     windowSize = maxDist\n",
    "#     ldHistsPanmictic = {}\n",
    "\n",
    "#     for (demoLabel, mts) in treeSequencesPanmictic.items():\n",
    "\n",
    "#         print (demoLabel)\n",
    "        \n",
    "#         # convert to proper geno matrix\n",
    "#         (positions, numAlleles, genoMatrix) = mtsToGeno (mts)\n",
    "#         (positions, numAlleles, genoMatrix) = removeNonBiallelic (positions, numAlleles, genoMatrix)\n",
    "#         (positions, numAlleles, genoMatrix) = removeNonSegregating (positions, numAlleles, genoMatrix)\n",
    "\n",
    "#         # (re)set histogram\n",
    "#         avgValues = numpy.zeros (lowerB.shape[0])\n",
    "#         numInBin = numpy.zeros (lowerB.shape[0])\n",
    "\n",
    "#         for idx in tqdm.tqdm (numpy.arange (genoMatrix.shape[0])):\n",
    "\n",
    "#             # focal stuff \n",
    "#             focalPos = positions[idx]\n",
    "#             focalGeno = genoMatrix[idx,:]\n",
    "\n",
    "#             # window stuff\n",
    "#             windowMask = (positions >= focalPos - windowSize) & (positions < focalPos + windowSize)\n",
    "#             windowGeno = genoMatrix[windowMask,:]\n",
    "#             windowPos = positions[windowMask]\n",
    "\n",
    "#             # get the dist from focal\n",
    "#             windowDists = numpy.abs (focalPos - windowPos)\n",
    "\n",
    "#             # get the LD\n",
    "#             lds = computeLD (focalGeno, windowGeno)\n",
    "\n",
    "#             # save them in the histogram\n",
    "#             for binIdx in numpy.arange (lowerB.shape[0]):\n",
    "#                 # get the mask for this bin\n",
    "#                 binMask = (lowerB[binIdx] < windowDists) & (windowDists < upperB[binIdx])\n",
    "\n",
    "#                 # and add it to hist\n",
    "#                 avgValues[binIdx] += numpy.sum (lds[binMask])\n",
    "#                 # how many added\n",
    "#                 numInBin[binIdx] += numpy.sum (binMask)\n",
    "\n",
    "#         # remember the histogram\n",
    "#         ldHistsPanmictic[demoLabel] = avgValues / numInBin\n",
    "\n",
    "#     # and pickle it\n",
    "#     pickle.dump (ldHistsPanmictic, bz2.open (popSizeLdPickleFile, 'wb'))\n"
   ]
  },
  {
   "cell_type": "code",
   "execution_count": 13,
   "metadata": {},
   "outputs": [],
   "source": [
    "# # check neutral SFS\n",
    "# numDer = numpy.sum (genoMatrix, axis=1)\n",
    "# (histY, histX) = numpy.histogram (numDer, range=(0.5,genoMatrix.shape[1]-0.5), bins=genoMatrix.shape[1]-1)\n",
    "# xs = (histX[:-1] + histX[1:])/2\n",
    "# plt.plot (xs, histY)\n",
    "# plt.xscale (\"log\")\n",
    "# plt.yscale (\"log\")"
   ]
  },
  {
   "attachments": {},
   "cell_type": "markdown",
   "metadata": {},
   "source": [
    "### two population divergence"
   ]
  },
  {
   "cell_type": "code",
   "execution_count": 14,
   "metadata": {},
   "outputs": [],
   "source": [
    "# popgen parameters\n",
    "divRecoRate = 1.25e-8\n",
    "divMutRate = 1.25e-8\n",
    "divSequenceLength = 100e6\n",
    "divDiploidSampleSizes = [20, 20]\n",
    "divAncestralSize = 1e4\n",
    "divExtantSizes = [5e3, 5e3]\n",
    "divergenceTime = 5e3\n",
    "\n",
    "divMigrationRates = {\n",
    "    \"Clean Split\" : 0,\n",
    "    \"IM (low)\": 5e-5,\n",
    "    \"IM (high)\": 1e-3,\n",
    "}\n",
    "\n",
    "divergenceDemographies = {}\n",
    "for (k,v) in divMigrationRates.items():\n",
    "\n",
    "    # create a demography with two populations that diverge\n",
    "    thisDemo = msprime.Demography()\n",
    "    thisDemo.add_population (name=\"ancestral\", initial_size=divAncestralSize)\n",
    "    thisDemo.add_population (name=\"extantOne\", initial_size=divExtantSizes[0])\n",
    "    thisDemo.add_population (name=\"extantTwo\", initial_size=divExtantSizes[1])\n",
    "    thisDemo.add_population_split (time=divergenceTime, derived=[\"extantOne\", \"extantTwo\"], ancestral=\"ancestral\")\n",
    "\n",
    "    # add migratiom rates more recent than divergence\n",
    "    thisDemo.set_symmetric_migration_rate (populations=[\"extantOne\",\"extantTwo\"], rate=v)\n",
    "\n",
    "    # save it\n",
    "    divergenceDemographies[k] = thisDemo"
   ]
  },
  {
   "cell_type": "code",
   "execution_count": 15,
   "metadata": {},
   "outputs": [
    {
     "name": "stdout",
     "output_type": "stream",
     "text": [
      "File divergence_mts.pickle.bz2 exists, load data.\n"
     ]
    }
   ],
   "source": [
    "\n",
    "divMtsPickleFile = 'divergence_mts.pickle.bz2'\n",
    "\n",
    "if (pathlib2.Path(divMtsPickleFile).is_file() and LOAD_FROM_PICKLE):\n",
    "    print (f\"File {divMtsPickleFile} exists, load data.\")\n",
    "    # load pickle\n",
    "    treeSequencesDiv = pickle.load (bz2.open (divMtsPickleFile, 'rb'))\n",
    "else:\n",
    "    print (f\"File {divMtsPickleFile} does not exist or shouldn't be loaded, generate data.\")\n",
    "\n",
    "    treeSequencesDiv = {}\n",
    "\n",
    "    for (thisLabel, thisDemo) in divergenceDemographies.items():\n",
    "\n",
    "        # first simulate tree sequence\n",
    "        ts = msprime.sim_ancestry (samples={\"extantOne\": divDiploidSampleSizes[0], \"extantTwo\": divDiploidSampleSizes[1]},\n",
    "                                        recombination_rate=divRecoRate, sequence_length=divSequenceLength, demography=thisDemo,\n",
    "                                        random_seed=metaRNG.integers (99999999))\n",
    "\n",
    "        # then mutations on the trees\n",
    "        mts = msprime.sim_mutations(ts, rate=divMutRate, random_seed=metaRNG.integers (99999999))\n",
    "\n",
    "        # store it\n",
    "        treeSequencesDiv[thisLabel] = mts\n",
    "    \n",
    "    # and pickle it\n",
    "    pickle.dump (treeSequencesDiv, bz2.open (divMtsPickleFile, 'wb'))"
   ]
  },
  {
   "cell_type": "code",
   "execution_count": 16,
   "metadata": {},
   "outputs": [],
   "source": [
    "# set up LD hist\n",
    "minDist = 0.1\n",
    "maxDist = 1e5\n",
    "distBins = 20\n",
    "bounds = numpy.linspace (minDist, maxDist, distBins)\n",
    "lowerB = bounds[:-1]\n",
    "upperB = bounds[1:]"
   ]
  },
  {
   "cell_type": "code",
   "execution_count": 17,
   "metadata": {},
   "outputs": [
    {
     "name": "stdout",
     "output_type": "stream",
     "text": [
      "File divergence_stat.pickle.bz2 exists, load data.\n"
     ]
    }
   ],
   "source": [
    "# compute statistics\n",
    "\n",
    "divStatPickleFile = 'divergence_stat.pickle.bz2'\n",
    "\n",
    "if (pathlib2.Path(divStatPickleFile).is_file() and LOAD_FROM_PICKLE):\n",
    "    print (f\"File {divStatPickleFile} exists, load data.\")\n",
    "    # load pickle\n",
    "    (jointSFS, ldHistsDiv) = pickle.load (bz2.open (divStatPickleFile, 'rb'))\n",
    "else:\n",
    "    print (f\"File {divStatPickleFile} does not exist or shouldn't be loaded, generate data.\")\n",
    "    # go through all loci\n",
    "\n",
    "    jointSFS = {}\n",
    "\n",
    "    windowSize = maxDist\n",
    "\n",
    "    ldHistsDiv = {}\n",
    "\n",
    "    for (thisLabel, mts) in treeSequencesDiv.items():\n",
    "\n",
    "        print (thisLabel)\n",
    "\n",
    "        # +1, cause we want fixed in one population\n",
    "        thisJointSFS = numpy.zeros ((2*divDiploidSampleSizes[0]+1, 2*divDiploidSampleSizes[1]+1))\n",
    "\n",
    "        # convert to proper geno matrix\n",
    "        (positions, numAlleles, genoMatrix) = mtsToGeno (mts)\n",
    "        (positions, numAlleles, genoMatrix) = removeNonBiallelic (positions, numAlleles, genoMatrix)\n",
    "        (positions, numAlleles, genoMatrix) = removeNonSegregating (positions, numAlleles, genoMatrix)\n",
    "\n",
    "        # then split into both populations\n",
    "        genoMatrixOne = genoMatrix[:,:2*divDiploidSampleSizes[0]]\n",
    "        genoMatrixTwo = genoMatrix[:,2*divDiploidSampleSizes[0]:]\n",
    "\n",
    "        # get the derived alleles\n",
    "        numDerOne = numpy.sum (genoMatrixOne, axis=1, dtype=int)\n",
    "        numDerTwo = numpy.sum (genoMatrixTwo, axis=1, dtype=int)\n",
    "\n",
    "        # go thourgh once for the SFS\n",
    "        for idx in tqdm.tqdm (numpy.arange (genoMatrix.shape[0])):\n",
    "\n",
    "            # remember the entry in the joint SFS\n",
    "            thisJointSFS[numDerOne[idx], numDerTwo[idx]] += 1\n",
    "\n",
    "        # remember this joint SFS\n",
    "        jointSFS[thisLabel] = thisJointSFS\n",
    "\n",
    "        # # go through again for LD, but remove the ones that don't segregate across the population first\n",
    "        # keepMask = (numDerOne > 0) & (numDerOne < genoMatrixOne.shape[1]) & (numDerTwo > 0) & (numDerTwo < genoMatrixTwo.shape[1])\n",
    "\n",
    "        # positions = positions[keepMask]\n",
    "        # genoMatrixOne = genoMatrixOne[keepMask]\n",
    "        # genoMatrixTwo = genoMatrixTwo[keepMask]\n",
    "\n",
    "        # NEW AND IMPROVED\n",
    "        # ld with just the full genotype matrix across the populations\n",
    "\n",
    "        # (re)set histogram\n",
    "        avgValues = numpy.zeros (lowerB.shape[0])\n",
    "        numInBin = numpy.zeros (lowerB.shape[0])\n",
    "\n",
    "        # now go through it\n",
    "        for idx in tqdm.tqdm (numpy.arange (genoMatrixOne.shape[0])):\n",
    "\n",
    "            # focal stuff \n",
    "            focalPos = positions[idx]\n",
    "            # focalGenoOne = genoMatrixOne[idx,:]\n",
    "            # focalGenoTwo = genoMatrixTwo[idx,:]\n",
    "            focalGeno = genoMatrix[idx,:]\n",
    "\n",
    "            # window stuff\n",
    "            windowMask = (positions >= focalPos - windowSize) & (positions < focalPos + windowSize)\n",
    "            windowPos = positions[windowMask]\n",
    "            windowDists = numpy.abs (focalPos - windowPos)\n",
    "\n",
    "            # windowGenoOne = genoMatrixOne[windowMask,:]\n",
    "            # windowGenoTwo = genoMatrixTwo[windowMask,:]\n",
    "            windowGeno = genoMatrix[windowMask,:]\n",
    "\n",
    "            # get the LD\n",
    "            # lds = computeCrossLD (focalGenoOne, windowGenoOne, focalGenoTwo, windowGenoTwo)\n",
    "            lds = computeLD (focalGeno, windowGeno)\n",
    "\n",
    "            # save them in the histogram\n",
    "            for binIdx in numpy.arange (lowerB.shape[0]):\n",
    "                # get the mask for this bin\n",
    "                binMask = (lowerB[binIdx] < windowDists) & (windowDists < upperB[binIdx])\n",
    "\n",
    "                # and add it to hist\n",
    "                avgValues[binIdx] += numpy.sum (lds[binMask])\n",
    "                # how many added\n",
    "                numInBin[binIdx] += numpy.sum (binMask)\n",
    "\n",
    "\n",
    "        # remember the histogram\n",
    "        ldHistsDiv[thisLabel] = avgValues / numInBin\n",
    "    \n",
    "    # and pickle it\n",
    "    pickle.dump ((jointSFS, ldHistsDiv), bz2.open (divStatPickleFile, 'wb'))\n"
   ]
  },
  {
   "attachments": {},
   "cell_type": "markdown",
   "metadata": {},
   "source": [
    "#### coalescent rates"
   ]
  },
  {
   "cell_type": "code",
   "execution_count": 18,
   "metadata": {},
   "outputs": [],
   "source": [
    "# combine all simulations to reuse code\n",
    "allTreeSequences = {}\n",
    "for (k,v) in treeSequencesPanmictic.items():\n",
    "    allTreeSequences[k] = v\n",
    "for (k,v) in treeSequencesDiv.items():\n",
    "    allTreeSequences[k] = v"
   ]
  },
  {
   "cell_type": "code",
   "execution_count": 19,
   "metadata": {},
   "outputs": [
    {
     "name": "stdout",
     "output_type": "stream",
     "text": [
      "Constant\n"
     ]
    },
    {
     "name": "stderr",
     "output_type": "stream",
     "text": [
      "100%|██████████| 262930/262930 [00:01<00:00, 228830.55it/s]\n"
     ]
    },
    {
     "name": "stdout",
     "output_type": "stream",
     "text": [
      "Bottleneck\n"
     ]
    },
    {
     "name": "stderr",
     "output_type": "stream",
     "text": [
      "100%|██████████| 226185/226185 [00:00<00:00, 233062.23it/s]\n"
     ]
    },
    {
     "name": "stdout",
     "output_type": "stream",
     "text": [
      "Clean Split\n"
     ]
    },
    {
     "name": "stderr",
     "output_type": "stream",
     "text": [
      "100%|██████████| 214805/214805 [00:00<00:00, 238703.25it/s]\n"
     ]
    },
    {
     "name": "stdout",
     "output_type": "stream",
     "text": [
      "IM (low)\n"
     ]
    },
    {
     "name": "stderr",
     "output_type": "stream",
     "text": [
      "100%|██████████| 215961/215961 [00:00<00:00, 242933.46it/s]\n"
     ]
    },
    {
     "name": "stdout",
     "output_type": "stream",
     "text": [
      "IM (high)\n"
     ]
    },
    {
     "name": "stderr",
     "output_type": "stream",
     "text": [
      "100%|██████████| 213565/213565 [00:00<00:00, 240396.88it/s]\n"
     ]
    }
   ],
   "source": [
    "# do we want to skip trees?\n",
    "skipTrees = True\n",
    "skipInterval = 1e4\n",
    "\n",
    "coalescenceTimes = {}\n",
    "spans = {}\n",
    "\n",
    "for (k, v) in allTreeSequences.items():\n",
    "\n",
    "    print (k)\n",
    "\n",
    "    # make new containers\n",
    "    coalescenceTimes[k] = []\n",
    "    spans[k] = []\n",
    "\n",
    "    # try making this work for oanmictic and divergence\n",
    "    firstSampleId = 0\n",
    "    lastSampleId = v.num_samples-1\n",
    "\n",
    "    currIdx = 0\n",
    "    # if we start like this, the first tree will be recorded\n",
    "    lastIdx = -2\n",
    "    \n",
    "    # go through trees and see where they fall\n",
    "    for localTree in tqdm.tqdm(v.trees()):\n",
    "\n",
    "        thisTime = localTree.tmrca (firstSampleId, lastSampleId)\n",
    "        thisSpan = localTree.span\n",
    "\n",
    "        # this is the time\n",
    "        if (skipTrees):\n",
    "            # currIdx is starting index of current tree\n",
    "            if (currIdx > lastIdx + 1):\n",
    "                nextIdx = numpy.floor (currIdx)\n",
    "                # we want this tree\n",
    "                coalescenceTimes[k].append (thisTime)\n",
    "                # but all weighed by how many indicees they span\n",
    "                spans[k].append (nextIdx - lastIdx)\n",
    "                lastIdx = nextIdx\n",
    "            # need to increment this anyways\n",
    "            currIdx = currIdx + thisSpan/skipInterval\n",
    "        else:\n",
    "            coalescenceTimes[k].append (thisTime)\n",
    "            # no skipping, so it has a weight\n",
    "            spans[k].append (thisSpan)\n",
    "        \n",
    "    # just making sure we counted trees correctly\n",
    "    assert (panSequenceLength == divSequenceLength)\n",
    "    if (skipTrees):\n",
    "        assert (numpy.isclose ((numpy.sum(spans[k])-1) * skipInterval, panSequenceLength))\n",
    "    else:\n",
    "        assert (numpy.isclose (numpy.sum(spans[k]), panSequenceLength))\n"
   ]
  },
  {
   "attachments": {},
   "cell_type": "markdown",
   "metadata": {},
   "source": [
    "### make some plots"
   ]
  },
  {
   "cell_type": "code",
   "execution_count": 20,
   "metadata": {},
   "outputs": [
    {
     "data": {
      "image/png": "[encoded data removed]",
      "text/plain": [
       "<Figure size 800x600 with 5 Axes>"
      ]
     },
     "metadata": {},
     "output_type": "display_data"
    }
   ],
   "source": [
    "fig = plt.figure(figsize=(8, 6))\n",
    "# matplotlib is strange\n",
    "gsTwo = gspec.GridSpec (2, 2)\n",
    "gsThree = gspec.GridSpec (2, 3, width_ratios=[11,11,1])\n",
    "ax1 = plt.subplot (gsTwo[0,0])\n",
    "ax2 = plt.subplot (gsTwo[0,1])\n",
    "ax3 = plt.subplot (gsThree[1,0])\n",
    "ax4 = plt.subplot (gsThree[1,1])\n",
    "ax5 = plt.subplot (gsThree[1,2])\n",
    "\n",
    "# first plot: coalescent rates\n",
    "minTime = 0\n",
    "maxTime = 4e4\n",
    "timeBins = 16\n",
    "thisAx = ax1\n",
    "theLegend = []\n",
    "for k in coalescenceTimes.keys():\n",
    "    if ('low' in k):\n",
    "        continue\n",
    "    (histY, histX) = numpy.histogram (coalescenceTimes[k], weights=spans[k], range=(minTime, maxTime), bins=timeBins, density=True)\n",
    "    plotX = histX[:-1]/2 + histX[1:]/2\n",
    "    thisAx.plot (plotX, histY)\n",
    "    theLegend.append (k)\n",
    "thisAx.legend (theLegend)\n",
    "thisAx.set_title (\"Pairwise coalescence times\")\n",
    "thisAx.set_xlabel (\"Time (gener. ago)\")\n",
    "thisAx.set_ylabel (\"Density\")\n",
    "thisAx.set_yticks ([0, 0.00002, 0.00004, 0.00006, 0.00008])\n",
    "thisAx.set_yticklabels ([\"0\", \"\", \"0.00004\", \"\", \"0.00008\"], rotation=90, va='center')\n",
    "thisAx.set_xlim (-1000, 41000)\n",
    "thisAx.set_ylim (-2e-6, 0.00009)\n",
    "\n",
    "# second plot: divergence LD\n",
    "thisAx = ax2\n",
    "theLegend = []\n",
    "xs = (lowerB + upperB)/2 * (divRecoRate/0.01)\n",
    "for (tDiv, thisHist) in ldHistsDiv.items():\n",
    "    thisAx.plot (xs, thisHist)\n",
    "    theLegend.append (tDiv)\n",
    "thisAx.legend (theLegend)\n",
    "# thisAx.set_xscale ('log')\n",
    "thisAx.set_yscale ('log')\n",
    "thisAx.set_title (\"Linkage disequlibrium\")\n",
    "thisAx.set_xlabel (\"cM\")\n",
    "thisAx.set_ylabel (r\"$r^2$\")\n",
    "thisAx.set_yticks ([0.03, 0.04, 0.05, 0.06, 0.07, 0.08, 0.09, 0.1])\n",
    "thisAx.set_yticklabels ([\"0.03\", \"\", \"\", \"0.06\", \"\", \"\", \"\", \"0.1\"], rotation=90, va='center')\n",
    "\n",
    "# get the min and max\n",
    "demoLabelOne = 'Clean Split'\n",
    "\n",
    "# third plot: joint SFS, recent divergence\n",
    "thisAx = ax3\n",
    "demoLabel = 'Clean Split'\n",
    "# add pseudo-counts\n",
    "plotSFS = jointSFS[demoLabel] + 1\n",
    "thisAx.imshow (numpy.log10(plotSFS), origin='lower')\n",
    "thisAx.set_xlabel (r\"$d_1$\")\n",
    "thisAx.set_ylabel (r\"$d_2$\")\n",
    "theTicks = [0,10,20,30,40]\n",
    "thisAx.set_yticks (theTicks)\n",
    "thisAx.set_yticklabels (theTicks)\n",
    "thisAx.set_xticks (theTicks)\n",
    "thisAx.set_xticklabels (theTicks)\n",
    "thisAx.set_title (f\"Joint SFS: {demoLabel}\" )\n",
    "\n",
    "# fourth plot: joint SFS, ancient divergence\n",
    "thisAx = ax4\n",
    "demoLabel = 'IM (high)'\n",
    "# add pseudo-counts\n",
    "plotSFS = jointSFS[demoLabel] + 1\n",
    "theIM = thisAx.imshow (numpy.log10(plotSFS), origin='lower')\n",
    "thisAx.set_xlabel (r\"$d_1$\")\n",
    "thisAx.set_ylabel (r\"$d_2$\")\n",
    "theTicks = [0,10,20,30,40]\n",
    "thisAx.set_yticks (theTicks)\n",
    "thisAx.set_yticklabels (theTicks)\n",
    "thisAx.set_xticks (theTicks)\n",
    "thisAx.set_xticklabels (theTicks)\n",
    "thisAx.set_title (f\"Joint SFS: {demoLabel}\" )\n",
    "\n",
    "# colobar?\n",
    "thisAx = ax5\n",
    "fig.colorbar (theIM, cax=thisAx)\n",
    "thisAx.set_yticks ([0, 1, 2, 3, 4])\n",
    "thisAx.set_yticklabels ([\"1\", \"\", \"100\", \"\", \"10000\"], rotation=90, va='center')\n",
    "thisAx.set_title (\"Count\")\n",
    "\n",
    "# plt.tight_layout()\n",
    "# plt.subplots_adjust (top = 0.99, bottom=0.01, hspace=1.5, wspace=0.4)\n",
    "plt.subplots_adjust (hspace=.4)\n",
    "plt.savefig(\"figure_2_demo_stats.pdf\")\n",
    "plt.show()\n"
   ]
  },
  {
   "cell_type": "code",
   "execution_count": null,
   "metadata": {},
   "outputs": [],
   "source": []
  }
 ],
 "metadata": {
  "kernelspec": {
   "display_name": "Python 3 (ipykernel)",
   "language": "python",
   "name": "python3"
  },
  "language_info": {
   "codemirror_mode": {
    "name": "ipython",
    "version": 3
   },
   "file_extension": ".py",
   "mimetype": "text/x-python",
   "name": "python",
   "nbconvert_exporter": "python",
   "pygments_lexer": "ipython3",
   "version": "3.10.12"
  }
 },
 "nbformat": 4,
 "nbformat_minor": 4
}
